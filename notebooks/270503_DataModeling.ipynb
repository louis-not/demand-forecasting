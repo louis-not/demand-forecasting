{
 "cells": [
  {
   "attachments": {},
   "cell_type": "markdown",
   "metadata": {},
   "source": [
    "# Demand Forecasting (Pipeline & Modeling)"
   ]
  },
  {
   "attachments": {},
   "cell_type": "markdown",
   "metadata": {},
   "source": [
    "the objective of the model is to forecast the amount of qty_total for every item that should be available for the next week.\n",
    "\n",
    "\n",
    "input:\n",
    "- date: datetime --> predict on date\n",
    "- B1G1: Bool --> Will there be a B1G1 promo?\n",
    "- FS: Bool --> Will there be a FS promo\n",
    "- menu_group: String  --> predicted menu\n",
    "\n",
    "output:\n",
    "- qty_1w: amount of qty should be availble for that week"
   ]
  },
  {
   "cell_type": "code",
   "execution_count": 231,
   "metadata": {},
   "outputs": [],
   "source": [
    "import pandas as pd\n",
    "import numpy as np\n",
    "import matplotlib.pyplot as plt\n",
    "import statsmodels.api as sm\n",
    "\n",
    "from sklearn.preprocessing import MinMaxScaler\n",
    "\n",
    "from sklearn.metrics import mean_squared_error, mean_absolute_error\n",
    "\n",
    "from bayes_opt import BayesianOptimization"
   ]
  },
  {
   "attachments": {},
   "cell_type": "markdown",
   "metadata": {},
   "source": [
    "## Load Data"
   ]
  },
  {
   "cell_type": "code",
   "execution_count": 59,
   "metadata": {},
   "outputs": [],
   "source": [
    "FOLDER_PATH = '/Users/louisn/Documents/Legit-DS/Selection/demand-forecasting/data/'\n",
    "DATA_PATH = FOLDER_PATH + 'interview-test.csv'"
   ]
  },
  {
   "cell_type": "code",
   "execution_count": 60,
   "metadata": {},
   "outputs": [
    {
     "name": "stdout",
     "output_type": "stream",
     "text": [
      "<class 'pandas.core.frame.DataFrame'>\n",
      "RangeIndex: 8902 entries, 0 to 8901\n",
      "Data columns (total 8 columns):\n",
      " #   Column      Non-Null Count  Dtype \n",
      "---  ------      --------------  ----- \n",
      " 0   salesdate   8902 non-null   object\n",
      " 1   menuid      8902 non-null   int64 \n",
      " 2   menuname    8902 non-null   object\n",
      " 3   package     8902 non-null   object\n",
      " 4   salesNum    8902 non-null   int64 \n",
      " 5   bomid       8902 non-null   int64 \n",
      " 6   menu_group  8902 non-null   object\n",
      " 7   qty_total   8902 non-null   int64 \n",
      "dtypes: int64(4), object(4)\n",
      "memory usage: 556.5+ KB\n"
     ]
    }
   ],
   "source": [
    "df = pd.read_csv(DATA_PATH)\n",
    "df.info()"
   ]
  },
  {
   "attachments": {},
   "cell_type": "markdown",
   "metadata": {},
   "source": [
    "## Preprocessing"
   ]
  },
  {
   "cell_type": "code",
   "execution_count": 61,
   "metadata": {},
   "outputs": [],
   "source": [
    "df['salesdate'] = pd.to_datetime(df['salesdate'], format='%Y-%m-%d')\n",
    "df.set_index('salesdate', inplace=True)"
   ]
  },
  {
   "cell_type": "code",
   "execution_count": 62,
   "metadata": {},
   "outputs": [
    {
     "data": {
      "text/html": [
       "<div>\n",
       "<style scoped>\n",
       "    .dataframe tbody tr th:only-of-type {\n",
       "        vertical-align: middle;\n",
       "    }\n",
       "\n",
       "    .dataframe tbody tr th {\n",
       "        vertical-align: top;\n",
       "    }\n",
       "\n",
       "    .dataframe thead th {\n",
       "        text-align: right;\n",
       "    }\n",
       "</style>\n",
       "<table border=\"1\" class=\"dataframe\">\n",
       "  <thead>\n",
       "    <tr style=\"text-align: right;\">\n",
       "      <th></th>\n",
       "      <th>menuid</th>\n",
       "      <th>menuname</th>\n",
       "      <th>package</th>\n",
       "      <th>salesNum</th>\n",
       "      <th>bomid</th>\n",
       "      <th>menu_group</th>\n",
       "      <th>qty_total</th>\n",
       "    </tr>\n",
       "    <tr>\n",
       "      <th>salesdate</th>\n",
       "      <th></th>\n",
       "      <th></th>\n",
       "      <th></th>\n",
       "      <th></th>\n",
       "      <th></th>\n",
       "      <th></th>\n",
       "      <th></th>\n",
       "    </tr>\n",
       "  </thead>\n",
       "  <tbody>\n",
       "    <tr>\n",
       "      <th>2023-03-08</th>\n",
       "      <td>540</td>\n",
       "      <td>Gyudon Aburi with Miso Mayo &amp; Sambal Korek</td>\n",
       "      <td>Package Content</td>\n",
       "      <td>4795</td>\n",
       "      <td>88</td>\n",
       "      <td>Gyudon Aburi with Miso Mayo &amp; Sambal Korek</td>\n",
       "      <td>1</td>\n",
       "    </tr>\n",
       "  </tbody>\n",
       "</table>\n",
       "</div>"
      ],
      "text/plain": [
       "            menuid                                    menuname  \\\n",
       "salesdate                                                        \n",
       "2023-03-08     540  Gyudon Aburi with Miso Mayo & Sambal Korek   \n",
       "\n",
       "                    package  salesNum  bomid  \\\n",
       "salesdate                                      \n",
       "2023-03-08  Package Content      4795     88   \n",
       "\n",
       "                                            menu_group  qty_total  \n",
       "salesdate                                                          \n",
       "2023-03-08  Gyudon Aburi with Miso Mayo & Sambal Korek          1  "
      ]
     },
     "execution_count": 62,
     "metadata": {},
     "output_type": "execute_result"
    }
   ],
   "source": [
    "df.sample(1)"
   ]
  },
  {
   "cell_type": "code",
   "execution_count": 63,
   "metadata": {},
   "outputs": [
    {
     "name": "stdout",
     "output_type": "stream",
     "text": [
      "train : 6881\n",
      "test : 2221\n",
      "test ratio: 0.24401230498791474.2f\n"
     ]
    }
   ],
   "source": [
    "# split train & test data\n",
    "split_dt = \"2023-02-28\"\n",
    "\n",
    "train = df.loc[:split_dt]\n",
    "test = df.loc[split_dt:]\n",
    "ratio = len(test) / (len(train)+len(test))\n",
    "\n",
    "print(f\"train : {len(train)}\")\n",
    "print(f\"test : {len(test)}\")\n",
    "print(f\"test ratio: {ratio}.2f\")"
   ]
  },
  {
   "cell_type": "code",
   "execution_count": 162,
   "metadata": {},
   "outputs": [],
   "source": [
    "def preprocess_input(df):\n",
    "    df = df[df['menu_group'] != '0'].copy()\n",
    "    # datetime preprocessing\n",
    "    try:\n",
    "        df['salesdate'] = pd.to_datetime(df['salesdate'], format='%Y-%m-%d')\n",
    "    except:\n",
    "        pass\n",
    "\n",
    "    # check for FS and B1G1 Promos\n",
    "    patternFs = r'\\[(.*?)\\]'\n",
    "    df['FS'] = df['menuname'].str.contains(patternFs)\n",
    "\n",
    "    # extract pattern B1G1\n",
    "    patternB1g1 = r'(B1G1)'\n",
    "    df['B1G1'] = df['menuname'].str.contains(patternB1g1)\n",
    "\n",
    "    # drop unrelevant cols\n",
    "    df.drop(columns=['menuid','package','menuname','salesNum','bomid'], axis=1, inplace=True)\n",
    "\n",
    "    # pivot on weekdays\n",
    "    df_weekly = df.resample('W').sum()\n",
    "    df_weekly.rename(columns= {\n",
    "        'FS': 'FS_total',\n",
    "        'B1G1': 'B1G1_total'\n",
    "    }, inplace=True)\n",
    "\n",
    "    # feature engineerid week of month\n",
    "    # df_weekly['day'] = df_weekly.index.weekday\n",
    "    df_weekly['week'] = (df_weekly.index.day - 1) // 7 + 1\n",
    "    df_new = pd.get_dummies(df_weekly, columns=['week'])\n",
    "\n",
    "    # split X and Y\n",
    "    y = df_new['qty_total'].copy()\n",
    "    X = df_new.drop('qty_total', axis=1).copy()\n",
    "\n",
    "    return df_new, X, y"
   ]
  },
  {
   "cell_type": "code",
   "execution_count": 163,
   "metadata": {},
   "outputs": [
    {
     "name": "stderr",
     "output_type": "stream",
     "text": [
      "/var/folders/ts/znlzfqcx083c_s9fv3sc20rw0000gn/T/ipykernel_44282/2396545609.py:11: UserWarning: This pattern is interpreted as a regular expression, and has match groups. To actually get the groups, use str.extract.\n",
      "  df['FS'] = df['menuname'].str.contains(patternFs)\n",
      "/var/folders/ts/znlzfqcx083c_s9fv3sc20rw0000gn/T/ipykernel_44282/2396545609.py:15: UserWarning: This pattern is interpreted as a regular expression, and has match groups. To actually get the groups, use str.extract.\n",
      "  df['B1G1'] = df['menuname'].str.contains(patternB1g1)\n",
      "/var/folders/ts/znlzfqcx083c_s9fv3sc20rw0000gn/T/ipykernel_44282/2396545609.py:21: FutureWarning: The default value of numeric_only in DataFrameGroupBy.sum is deprecated. In a future version, numeric_only will default to False. Either specify numeric_only or select only columns which should be valid for the function.\n",
      "  df_weekly = df.resample('W').sum()\n"
     ]
    },
    {
     "data": {
      "text/html": [
       "<div>\n",
       "<style scoped>\n",
       "    .dataframe tbody tr th:only-of-type {\n",
       "        vertical-align: middle;\n",
       "    }\n",
       "\n",
       "    .dataframe tbody tr th {\n",
       "        vertical-align: top;\n",
       "    }\n",
       "\n",
       "    .dataframe thead th {\n",
       "        text-align: right;\n",
       "    }\n",
       "</style>\n",
       "<table border=\"1\" class=\"dataframe\">\n",
       "  <thead>\n",
       "    <tr style=\"text-align: right;\">\n",
       "      <th></th>\n",
       "      <th>qty_total</th>\n",
       "      <th>FS_total</th>\n",
       "      <th>B1G1_total</th>\n",
       "      <th>week_1</th>\n",
       "      <th>week_2</th>\n",
       "      <th>week_3</th>\n",
       "      <th>week_4</th>\n",
       "      <th>week_5</th>\n",
       "    </tr>\n",
       "    <tr>\n",
       "      <th>salesdate</th>\n",
       "      <th></th>\n",
       "      <th></th>\n",
       "      <th></th>\n",
       "      <th></th>\n",
       "      <th></th>\n",
       "      <th></th>\n",
       "      <th></th>\n",
       "      <th></th>\n",
       "    </tr>\n",
       "  </thead>\n",
       "  <tbody>\n",
       "    <tr>\n",
       "      <th>2022-05-22</th>\n",
       "      <td>80</td>\n",
       "      <td>0</td>\n",
       "      <td>0</td>\n",
       "      <td>0</td>\n",
       "      <td>0</td>\n",
       "      <td>0</td>\n",
       "      <td>1</td>\n",
       "      <td>0</td>\n",
       "    </tr>\n",
       "    <tr>\n",
       "      <th>2022-05-29</th>\n",
       "      <td>151</td>\n",
       "      <td>0</td>\n",
       "      <td>0</td>\n",
       "      <td>0</td>\n",
       "      <td>0</td>\n",
       "      <td>0</td>\n",
       "      <td>0</td>\n",
       "      <td>1</td>\n",
       "    </tr>\n",
       "    <tr>\n",
       "      <th>2022-06-05</th>\n",
       "      <td>77</td>\n",
       "      <td>0</td>\n",
       "      <td>0</td>\n",
       "      <td>1</td>\n",
       "      <td>0</td>\n",
       "      <td>0</td>\n",
       "      <td>0</td>\n",
       "      <td>0</td>\n",
       "    </tr>\n",
       "    <tr>\n",
       "      <th>2022-06-12</th>\n",
       "      <td>90</td>\n",
       "      <td>2</td>\n",
       "      <td>0</td>\n",
       "      <td>0</td>\n",
       "      <td>1</td>\n",
       "      <td>0</td>\n",
       "      <td>0</td>\n",
       "      <td>0</td>\n",
       "    </tr>\n",
       "    <tr>\n",
       "      <th>2022-06-19</th>\n",
       "      <td>29</td>\n",
       "      <td>4</td>\n",
       "      <td>0</td>\n",
       "      <td>0</td>\n",
       "      <td>0</td>\n",
       "      <td>1</td>\n",
       "      <td>0</td>\n",
       "      <td>0</td>\n",
       "    </tr>\n",
       "    <tr>\n",
       "      <th>2022-06-26</th>\n",
       "      <td>0</td>\n",
       "      <td>0</td>\n",
       "      <td>0</td>\n",
       "      <td>0</td>\n",
       "      <td>0</td>\n",
       "      <td>0</td>\n",
       "      <td>1</td>\n",
       "      <td>0</td>\n",
       "    </tr>\n",
       "    <tr>\n",
       "      <th>2022-07-03</th>\n",
       "      <td>34</td>\n",
       "      <td>0</td>\n",
       "      <td>0</td>\n",
       "      <td>1</td>\n",
       "      <td>0</td>\n",
       "      <td>0</td>\n",
       "      <td>0</td>\n",
       "      <td>0</td>\n",
       "    </tr>\n",
       "    <tr>\n",
       "      <th>2022-07-10</th>\n",
       "      <td>113</td>\n",
       "      <td>0</td>\n",
       "      <td>0</td>\n",
       "      <td>0</td>\n",
       "      <td>1</td>\n",
       "      <td>0</td>\n",
       "      <td>0</td>\n",
       "      <td>0</td>\n",
       "    </tr>\n",
       "    <tr>\n",
       "      <th>2022-07-17</th>\n",
       "      <td>92</td>\n",
       "      <td>0</td>\n",
       "      <td>0</td>\n",
       "      <td>0</td>\n",
       "      <td>0</td>\n",
       "      <td>1</td>\n",
       "      <td>0</td>\n",
       "      <td>0</td>\n",
       "    </tr>\n",
       "    <tr>\n",
       "      <th>2022-07-24</th>\n",
       "      <td>106</td>\n",
       "      <td>0</td>\n",
       "      <td>0</td>\n",
       "      <td>0</td>\n",
       "      <td>0</td>\n",
       "      <td>0</td>\n",
       "      <td>1</td>\n",
       "      <td>0</td>\n",
       "    </tr>\n",
       "  </tbody>\n",
       "</table>\n",
       "</div>"
      ],
      "text/plain": [
       "            qty_total  FS_total  B1G1_total  week_1  week_2  week_3  week_4  \\\n",
       "salesdate                                                                     \n",
       "2022-05-22         80         0           0       0       0       0       1   \n",
       "2022-05-29        151         0           0       0       0       0       0   \n",
       "2022-06-05         77         0           0       1       0       0       0   \n",
       "2022-06-12         90         2           0       0       1       0       0   \n",
       "2022-06-19         29         4           0       0       0       1       0   \n",
       "2022-06-26          0         0           0       0       0       0       1   \n",
       "2022-07-03         34         0           0       1       0       0       0   \n",
       "2022-07-10        113         0           0       0       1       0       0   \n",
       "2022-07-17         92         0           0       0       0       1       0   \n",
       "2022-07-24        106         0           0       0       0       0       1   \n",
       "\n",
       "            week_5  \n",
       "salesdate           \n",
       "2022-05-22       0  \n",
       "2022-05-29       1  \n",
       "2022-06-05       0  \n",
       "2022-06-12       0  \n",
       "2022-06-19       0  \n",
       "2022-06-26       0  \n",
       "2022-07-03       0  \n",
       "2022-07-10       0  \n",
       "2022-07-17       0  \n",
       "2022-07-24       0  "
      ]
     },
     "execution_count": 163,
     "metadata": {},
     "output_type": "execute_result"
    }
   ],
   "source": [
    "df_preprocessed, X, y = preprocess_input(df)\n",
    "df_preprocessed.head(10) "
   ]
  },
  {
   "cell_type": "code",
   "execution_count": 164,
   "metadata": {},
   "outputs": [
    {
     "data": {
      "image/png": "[encoded data removed]",
      "text/plain": [
       "<Figure size 2000x500 with 1 Axes>"
      ]
     },
     "metadata": {},
     "output_type": "display_data"
    }
   ],
   "source": [
    "# Plot Graph\n",
    "plt.figure(figsize=(20,5))\n",
    "plt.plot(df_preprocessed.index, df_preprocessed['qty_total'])\n",
    "plt.title('Total Quantity Sold per Week')\n",
    "plt.xlabel('Week')\n",
    "plt.ylabel('Total Quantity Sold')\n",
    "plt.grid(True)\n",
    "plt.show()"
   ]
  },
  {
   "attachments": {},
   "cell_type": "markdown",
   "metadata": {},
   "source": [
    "**Caution!: We could see that there are a seasonality pattern until 2023-01. This maybe caused because the sales haven't reached it's \"stable state\", so the model might be useful if there are already more data that exhibit seasonability, but until then we shall predict by using the train and test data that splitted on \"2023-02-28\"**"
   ]
  },
  {
   "cell_type": "code",
   "execution_count": 165,
   "metadata": {},
   "outputs": [
    {
     "name": "stdout",
     "output_type": "stream",
     "text": [
      "trainX: (42, 7) | trainY: (42,)\n",
      "testX : (12, 7) | testY : (12,)\n"
     ]
    },
    {
     "name": "stderr",
     "output_type": "stream",
     "text": [
      "/var/folders/ts/znlzfqcx083c_s9fv3sc20rw0000gn/T/ipykernel_44282/2396545609.py:11: UserWarning: This pattern is interpreted as a regular expression, and has match groups. To actually get the groups, use str.extract.\n",
      "  df['FS'] = df['menuname'].str.contains(patternFs)\n",
      "/var/folders/ts/znlzfqcx083c_s9fv3sc20rw0000gn/T/ipykernel_44282/2396545609.py:15: UserWarning: This pattern is interpreted as a regular expression, and has match groups. To actually get the groups, use str.extract.\n",
      "  df['B1G1'] = df['menuname'].str.contains(patternB1g1)\n",
      "/var/folders/ts/znlzfqcx083c_s9fv3sc20rw0000gn/T/ipykernel_44282/2396545609.py:21: FutureWarning: The default value of numeric_only in DataFrameGroupBy.sum is deprecated. In a future version, numeric_only will default to False. Either specify numeric_only or select only columns which should be valid for the function.\n",
      "  df_weekly = df.resample('W').sum()\n",
      "/var/folders/ts/znlzfqcx083c_s9fv3sc20rw0000gn/T/ipykernel_44282/2396545609.py:11: UserWarning: This pattern is interpreted as a regular expression, and has match groups. To actually get the groups, use str.extract.\n",
      "  df['FS'] = df['menuname'].str.contains(patternFs)\n",
      "/var/folders/ts/znlzfqcx083c_s9fv3sc20rw0000gn/T/ipykernel_44282/2396545609.py:15: UserWarning: This pattern is interpreted as a regular expression, and has match groups. To actually get the groups, use str.extract.\n",
      "  df['B1G1'] = df['menuname'].str.contains(patternB1g1)\n",
      "/var/folders/ts/znlzfqcx083c_s9fv3sc20rw0000gn/T/ipykernel_44282/2396545609.py:21: FutureWarning: The default value of numeric_only in DataFrameGroupBy.sum is deprecated. In a future version, numeric_only will default to False. Either specify numeric_only or select only columns which should be valid for the function.\n",
      "  df_weekly = df.resample('W').sum()\n"
     ]
    }
   ],
   "source": [
    "trainDf, trainX, trainY = preprocess_input(train)\n",
    "testDf, testX, testY = preprocess_input(test)\n",
    "\n",
    "print(f\"trainX: {trainX.shape} | trainY: {trainY.shape}\")\n",
    "print(f\"testX : {testX.shape} | testY : {testY.shape}\")"
   ]
  },
  {
   "cell_type": "code",
   "execution_count": 166,
   "metadata": {},
   "outputs": [],
   "source": [
    "# Scaling model to be passed to modeling \n",
    "scaler = MinMaxScaler()\n",
    "\n",
    "trainX_scaled = scaler.fit_transform(trainX)\n",
    "testX_scaled = scaler.transform(testX)"
   ]
  },
  {
   "attachments": {},
   "cell_type": "markdown",
   "metadata": {},
   "source": [
    "## Modeling"
   ]
  },
  {
   "attachments": {},
   "cell_type": "markdown",
   "metadata": {},
   "source": [
    "### XGBoost (MAE: 64.14447275797527)"
   ]
  },
  {
   "attachments": {},
   "cell_type": "markdown",
   "metadata": {},
   "source": [
    "XGBoost could be usable because it's capability to do multivariate forecasting and it's commmonly known for its effectiveness."
   ]
  },
  {
   "cell_type": "code",
   "execution_count": 167,
   "metadata": {},
   "outputs": [],
   "source": [
    "import xgboost as xgb"
   ]
  },
  {
   "cell_type": "code",
   "execution_count": 206,
   "metadata": {},
   "outputs": [
    {
     "name": "stdout",
     "output_type": "stream",
     "text": [
      "MAE: 64.14447275797527\n"
     ]
    }
   ],
   "source": [
    "# Convert data into DMatrix format for XGBoost Multivariate\n",
    "dTrain = xgb.DMatrix(data=trainX, label=trainY)\n",
    "dTest =xgb.DMatrix(data=testX)\n",
    "\n",
    "# XGBoost Parameter\n",
    "params = {\n",
    "    'objective': 'reg:squarederror',\n",
    "    'eta': 0.1,\n",
    "    'max_depth': 3,\n",
    "    'learning_rate': 0.1,\n",
    "}\n",
    "\n",
    "# train \n",
    "model = xgb.train(params, dTrain)\n",
    "\n",
    "# predict\n",
    "yPred = model.predict(dTest)\n",
    "\n",
    "# evaluate\n",
    "mae = mean_absolute_error(testY, yPred)\n",
    "\n",
    "print(f\"MAE: {np.mean(mae)}\")"
   ]
  },
  {
   "cell_type": "code",
   "execution_count": 207,
   "metadata": {},
   "outputs": [
    {
     "data": {
      "text/html": [
       "<div>\n",
       "<style scoped>\n",
       "    .dataframe tbody tr th:only-of-type {\n",
       "        vertical-align: middle;\n",
       "    }\n",
       "\n",
       "    .dataframe tbody tr th {\n",
       "        vertical-align: top;\n",
       "    }\n",
       "\n",
       "    .dataframe thead th {\n",
       "        text-align: right;\n",
       "    }\n",
       "</style>\n",
       "<table border=\"1\" class=\"dataframe\">\n",
       "  <thead>\n",
       "    <tr style=\"text-align: right;\">\n",
       "      <th></th>\n",
       "      <th>qty_total</th>\n",
       "      <th>pred</th>\n",
       "    </tr>\n",
       "    <tr>\n",
       "      <th>salesdate</th>\n",
       "      <th></th>\n",
       "      <th></th>\n",
       "    </tr>\n",
       "  </thead>\n",
       "  <tbody>\n",
       "    <tr>\n",
       "      <th>2023-03-05</th>\n",
       "      <td>148</td>\n",
       "      <td>40.547638</td>\n",
       "    </tr>\n",
       "    <tr>\n",
       "      <th>2023-03-12</th>\n",
       "      <td>163</td>\n",
       "      <td>49.775406</td>\n",
       "    </tr>\n",
       "    <tr>\n",
       "      <th>2023-03-19</th>\n",
       "      <td>134</td>\n",
       "      <td>44.751770</td>\n",
       "    </tr>\n",
       "    <tr>\n",
       "      <th>2023-03-26</th>\n",
       "      <td>141</td>\n",
       "      <td>38.347595</td>\n",
       "    </tr>\n",
       "    <tr>\n",
       "      <th>2023-04-02</th>\n",
       "      <td>56</td>\n",
       "      <td>30.499279</td>\n",
       "    </tr>\n",
       "    <tr>\n",
       "      <th>2023-04-09</th>\n",
       "      <td>147</td>\n",
       "      <td>49.775406</td>\n",
       "    </tr>\n",
       "    <tr>\n",
       "      <th>2023-04-16</th>\n",
       "      <td>101</td>\n",
       "      <td>35.523994</td>\n",
       "    </tr>\n",
       "    <tr>\n",
       "      <th>2023-04-23</th>\n",
       "      <td>68</td>\n",
       "      <td>38.347595</td>\n",
       "    </tr>\n",
       "    <tr>\n",
       "      <th>2023-04-30</th>\n",
       "      <td>0</td>\n",
       "      <td>33.025921</td>\n",
       "    </tr>\n",
       "    <tr>\n",
       "      <th>2023-05-07</th>\n",
       "      <td>106</td>\n",
       "      <td>49.775406</td>\n",
       "    </tr>\n",
       "    <tr>\n",
       "      <th>2023-05-14</th>\n",
       "      <td>0</td>\n",
       "      <td>33.025921</td>\n",
       "    </tr>\n",
       "    <tr>\n",
       "      <th>2023-05-21</th>\n",
       "      <td>16</td>\n",
       "      <td>33.025921</td>\n",
       "    </tr>\n",
       "  </tbody>\n",
       "</table>\n",
       "</div>"
      ],
      "text/plain": [
       "            qty_total       pred\n",
       "salesdate                       \n",
       "2023-03-05        148  40.547638\n",
       "2023-03-12        163  49.775406\n",
       "2023-03-19        134  44.751770\n",
       "2023-03-26        141  38.347595\n",
       "2023-04-02         56  30.499279\n",
       "2023-04-09        147  49.775406\n",
       "2023-04-16        101  35.523994\n",
       "2023-04-23         68  38.347595\n",
       "2023-04-30          0  33.025921\n",
       "2023-05-07        106  49.775406\n",
       "2023-05-14          0  33.025921\n",
       "2023-05-21         16  33.025921"
      ]
     },
     "execution_count": 207,
     "metadata": {},
     "output_type": "execute_result"
    }
   ],
   "source": [
    "eval = testY.to_frame()\n",
    "eval['pred'] = yPred\n",
    "eval.head(12)"
   ]
  },
  {
   "cell_type": "code",
   "execution_count": 208,
   "metadata": {},
   "outputs": [
    {
     "data": {
      "text/plain": [
       "<matplotlib.legend.Legend at 0x17995ace0>"
      ]
     },
     "execution_count": 208,
     "metadata": {},
     "output_type": "execute_result"
    },
    {
     "data": {
      "image/png": "[encoded data removed]",
      "text/plain": [
       "<Figure size 640x480 with 1 Axes>"
      ]
     },
     "metadata": {},
     "output_type": "display_data"
    }
   ],
   "source": [
    "# plot \n",
    "plt.plot(trainY, color='blue', label = 'Train')\n",
    "plt.plot(eval['qty_total'], color='orange', label = 'Test')\n",
    "plt.plot(eval['pred'], color='green', label = 'XGBoost Predictions')\n",
    "plt.legend()"
   ]
  },
  {
   "attachments": {},
   "cell_type": "markdown",
   "metadata": {},
   "source": [
    "#### Tuning"
   ]
  },
  {
   "cell_type": "code",
   "execution_count": 223,
   "metadata": {},
   "outputs": [],
   "source": [
    "def black_box_XGBoost(eta, max_depth, learning_rate):\n",
    "    # input params\n",
    "    params = {\n",
    "        'objective': 'reg:squarederror',\n",
    "        'eta': eta,\n",
    "        'max_depth': int(max_depth),\n",
    "        'learning_rate': learning_rate,\n",
    "    }\n",
    "\n",
    "    # train \n",
    "    model = xgb.train(params, dTrain)\n",
    "\n",
    "    # predict\n",
    "    yPred = model.predict(dTest)\n",
    "\n",
    "    # evaluate\n",
    "    mae = mean_absolute_error(testY, yPred)\n",
    "\n",
    "    return -mae"
   ]
  },
  {
   "cell_type": "code",
   "execution_count": 224,
   "metadata": {},
   "outputs": [],
   "source": [
    "param_bounds = {\n",
    "    'eta': (0.01, 0.3),\n",
    "    'max_depth': (3, 10),\n",
    "    'learning_rate': (0.01, 0.1),\n",
    "}\n",
    "\n",
    "optimizer = BayesianOptimization(\n",
    "    f=black_box_XGBoost,\n",
    "    pbounds=param_bounds,\n",
    "    random_state=1,\n",
    ")"
   ]
  },
  {
   "cell_type": "code",
   "execution_count": 226,
   "metadata": {},
   "outputs": [
    {
     "name": "stdout",
     "output_type": "stream",
     "text": [
      "|   iter    |  target   |    eta    | learni... | max_depth |\n",
      "-------------------------------------------------------------\n",
      "| \u001b[0m54       \u001b[0m | \u001b[0m-73.28   \u001b[0m | \u001b[0m0.1663   \u001b[0m | \u001b[0m0.04773  \u001b[0m | \u001b[0m7.797    \u001b[0m |\n",
      "| \u001b[0m55       \u001b[0m | \u001b[0m-65.83   \u001b[0m | \u001b[0m0.06929  \u001b[0m | \u001b[0m0.08903  \u001b[0m | \u001b[0m3.192    \u001b[0m |\n",
      "| \u001b[0m56       \u001b[0m | \u001b[0m-73.32   \u001b[0m | \u001b[0m0.2044   \u001b[0m | \u001b[0m0.04756  \u001b[0m | \u001b[0m6.911    \u001b[0m |\n",
      "| \u001b[0m57       \u001b[0m | \u001b[0m-64.79   \u001b[0m | \u001b[0m0.01032  \u001b[0m | \u001b[0m0.09645  \u001b[0m | \u001b[0m4.01     \u001b[0m |\n",
      "| \u001b[0m58       \u001b[0m | \u001b[0m-68.97   \u001b[0m | \u001b[0m0.02224  \u001b[0m | \u001b[0m0.06919  \u001b[0m | \u001b[0m9.938    \u001b[0m |\n",
      "| \u001b[0m59       \u001b[0m | \u001b[0m-64.25   \u001b[0m | \u001b[0m0.02985  \u001b[0m | \u001b[0m0.1      \u001b[0m | \u001b[0m4.12     \u001b[0m |\n",
      "| \u001b[0m60       \u001b[0m | \u001b[0m-66.4    \u001b[0m | \u001b[0m0.04151  \u001b[0m | \u001b[0m0.08339  \u001b[0m | \u001b[0m9.822    \u001b[0m |\n",
      "| \u001b[0m61       \u001b[0m | \u001b[0m-79.49   \u001b[0m | \u001b[0m0.2628   \u001b[0m | \u001b[0m0.02607  \u001b[0m | \u001b[0m5.932    \u001b[0m |\n",
      "| \u001b[0m62       \u001b[0m | \u001b[0m-80.45   \u001b[0m | \u001b[0m0.03085  \u001b[0m | \u001b[0m0.02405  \u001b[0m | \u001b[0m7.742    \u001b[0m |\n",
      "| \u001b[0m63       \u001b[0m | \u001b[0m-64.25   \u001b[0m | \u001b[0m0.119    \u001b[0m | \u001b[0m0.1      \u001b[0m | \u001b[0m4.209    \u001b[0m |\n",
      "| \u001b[0m64       \u001b[0m | \u001b[0m-66.17   \u001b[0m | \u001b[0m0.01802  \u001b[0m | \u001b[0m0.08335  \u001b[0m | \u001b[0m4.288    \u001b[0m |\n",
      "| \u001b[0m65       \u001b[0m | \u001b[0m-64.34   \u001b[0m | \u001b[0m0.2966   \u001b[0m | \u001b[0m0.09866  \u001b[0m | \u001b[0m3.971    \u001b[0m |\n",
      "| \u001b[0m66       \u001b[0m | \u001b[0m-64.39   \u001b[0m | \u001b[0m0.2767   \u001b[0m | \u001b[0m0.09908  \u001b[0m | \u001b[0m4.176    \u001b[0m |\n",
      "| \u001b[0m67       \u001b[0m | \u001b[0m-82.36   \u001b[0m | \u001b[0m0.2612   \u001b[0m | \u001b[0m0.0186   \u001b[0m | \u001b[0m4.244    \u001b[0m |\n",
      "| \u001b[0m68       \u001b[0m | \u001b[0m-70.87   \u001b[0m | \u001b[0m0.03501  \u001b[0m | \u001b[0m0.05925  \u001b[0m | \u001b[0m4.015    \u001b[0m |\n",
      "| \u001b[0m69       \u001b[0m | \u001b[0m-64.33   \u001b[0m | \u001b[0m0.265    \u001b[0m | \u001b[0m0.0995   \u001b[0m | \u001b[0m4.066    \u001b[0m |\n",
      "| \u001b[0m70       \u001b[0m | \u001b[0m-64.25   \u001b[0m | \u001b[0m0.09229  \u001b[0m | \u001b[0m0.1      \u001b[0m | \u001b[0m4.418    \u001b[0m |\n",
      "| \u001b[0m71       \u001b[0m | \u001b[0m-75.94   \u001b[0m | \u001b[0m0.1648   \u001b[0m | \u001b[0m0.03636  \u001b[0m | \u001b[0m4.506    \u001b[0m |\n",
      "| \u001b[0m72       \u001b[0m | \u001b[0m-64.55   \u001b[0m | \u001b[0m0.1219   \u001b[0m | \u001b[0m0.09807  \u001b[0m | \u001b[0m4.331    \u001b[0m |\n",
      "| \u001b[0m73       \u001b[0m | \u001b[0m-76.52   \u001b[0m | \u001b[0m0.01318  \u001b[0m | \u001b[0m0.03562  \u001b[0m | \u001b[0m4.381    \u001b[0m |\n",
      "| \u001b[0m74       \u001b[0m | \u001b[0m-80.83   \u001b[0m | \u001b[0m0.02085  \u001b[0m | \u001b[0m0.0228   \u001b[0m | \u001b[0m4.188    \u001b[0m |\n",
      "| \u001b[0m75       \u001b[0m | \u001b[0m-64.62   \u001b[0m | \u001b[0m0.1562   \u001b[0m | \u001b[0m0.09757  \u001b[0m | \u001b[0m4.118    \u001b[0m |\n",
      "| \u001b[0m76       \u001b[0m | \u001b[0m-64.14   \u001b[0m | \u001b[0m0.3      \u001b[0m | \u001b[0m0.1      \u001b[0m | \u001b[0m3.827    \u001b[0m |\n",
      "| \u001b[0m77       \u001b[0m | \u001b[0m-64.89   \u001b[0m | \u001b[0m0.1429   \u001b[0m | \u001b[0m0.09724  \u001b[0m | \u001b[0m6.983    \u001b[0m |\n",
      "| \u001b[0m78       \u001b[0m | \u001b[0m-64.48   \u001b[0m | \u001b[0m0.07102  \u001b[0m | \u001b[0m0.1      \u001b[0m | \u001b[0m7.068    \u001b[0m |\n",
      "| \u001b[0m79       \u001b[0m | \u001b[0m-65.03   \u001b[0m | \u001b[0m0.049    \u001b[0m | \u001b[0m0.09448  \u001b[0m | \u001b[0m3.066    \u001b[0m |\n",
      "| \u001b[0m80       \u001b[0m | \u001b[0m-64.48   \u001b[0m | \u001b[0m0.1795   \u001b[0m | \u001b[0m0.1      \u001b[0m | \u001b[0m7.095    \u001b[0m |\n",
      "| \u001b[0m81       \u001b[0m | \u001b[0m-66.23   \u001b[0m | \u001b[0m0.07841  \u001b[0m | \u001b[0m0.08437  \u001b[0m | \u001b[0m8.544    \u001b[0m |\n",
      "| \u001b[0m82       \u001b[0m | \u001b[0m-81.76   \u001b[0m | \u001b[0m0.2494   \u001b[0m | \u001b[0m0.02079  \u001b[0m | \u001b[0m6.908    \u001b[0m |\n",
      "| \u001b[0m83       \u001b[0m | \u001b[0m-85.4    \u001b[0m | \u001b[0m0.1109   \u001b[0m | \u001b[0m0.01     \u001b[0m | \u001b[0m7.137    \u001b[0m |\n",
      "| \u001b[0m84       \u001b[0m | \u001b[0m-64.25   \u001b[0m | \u001b[0m0.2969   \u001b[0m | \u001b[0m0.09926  \u001b[0m | \u001b[0m3.824    \u001b[0m |\n",
      "| \u001b[0m85       \u001b[0m | \u001b[0m-65.92   \u001b[0m | \u001b[0m0.03562  \u001b[0m | \u001b[0m0.08613  \u001b[0m | \u001b[0m6.977    \u001b[0m |\n",
      "| \u001b[0m86       \u001b[0m | \u001b[0m-65.4    \u001b[0m | \u001b[0m0.1548   \u001b[0m | \u001b[0m0.09158  \u001b[0m | \u001b[0m4.119    \u001b[0m |\n",
      "| \u001b[0m87       \u001b[0m | \u001b[0m-64.48   \u001b[0m | \u001b[0m0.06681  \u001b[0m | \u001b[0m0.1      \u001b[0m | \u001b[0m6.829    \u001b[0m |\n",
      "| \u001b[0m88       \u001b[0m | \u001b[0m-80.87   \u001b[0m | \u001b[0m0.2399   \u001b[0m | \u001b[0m0.02268  \u001b[0m | \u001b[0m8.546    \u001b[0m |\n",
      "| \u001b[0m89       \u001b[0m | \u001b[0m-85.4    \u001b[0m | \u001b[0m0.01     \u001b[0m | \u001b[0m0.01     \u001b[0m | \u001b[0m6.761    \u001b[0m |\n",
      "| \u001b[0m90       \u001b[0m | \u001b[0m-84.29   \u001b[0m | \u001b[0m0.1231   \u001b[0m | \u001b[0m0.01318  \u001b[0m | \u001b[0m4.084    \u001b[0m |\n",
      "| \u001b[0m91       \u001b[0m | \u001b[0m-65.51   \u001b[0m | \u001b[0m0.07596  \u001b[0m | \u001b[0m0.09084  \u001b[0m | \u001b[0m8.537    \u001b[0m |\n",
      "| \u001b[0m92       \u001b[0m | \u001b[0m-64.48   \u001b[0m | \u001b[0m0.05384  \u001b[0m | \u001b[0m0.1      \u001b[0m | \u001b[0m9.224    \u001b[0m |\n",
      "| \u001b[0m93       \u001b[0m | \u001b[0m-77.36   \u001b[0m | \u001b[0m0.0927   \u001b[0m | \u001b[0m0.03243  \u001b[0m | \u001b[0m9.329    \u001b[0m |\n",
      "| \u001b[0m94       \u001b[0m | \u001b[0m-64.68   \u001b[0m | \u001b[0m0.08795  \u001b[0m | \u001b[0m0.09869  \u001b[0m | \u001b[0m9.093    \u001b[0m |\n",
      "| \u001b[0m95       \u001b[0m | \u001b[0m-76.64   \u001b[0m | \u001b[0m0.01232  \u001b[0m | \u001b[0m0.03524  \u001b[0m | \u001b[0m9.124    \u001b[0m |\n",
      "| \u001b[0m96       \u001b[0m | \u001b[0m-64.5    \u001b[0m | \u001b[0m0.1856   \u001b[0m | \u001b[0m0.0999   \u001b[0m | \u001b[0m9.133    \u001b[0m |\n",
      "| \u001b[0m97       \u001b[0m | \u001b[0m-65.42   \u001b[0m | \u001b[0m0.279    \u001b[0m | \u001b[0m0.09142  \u001b[0m | \u001b[0m9.033    \u001b[0m |\n",
      "| \u001b[0m98       \u001b[0m | \u001b[0m-64.52   \u001b[0m | \u001b[0m0.2971   \u001b[0m | \u001b[0m0.09976  \u001b[0m | \u001b[0m7.189    \u001b[0m |\n",
      "| \u001b[0m99       \u001b[0m | \u001b[0m-82.25   \u001b[0m | \u001b[0m0.1953   \u001b[0m | \u001b[0m0.01892  \u001b[0m | \u001b[0m4.004    \u001b[0m |\n",
      "| \u001b[0m100      \u001b[0m | \u001b[0m-69.09   \u001b[0m | \u001b[0m0.2956   \u001b[0m | \u001b[0m0.06858  \u001b[0m | \u001b[0m7.34     \u001b[0m |\n",
      "| \u001b[0m101      \u001b[0m | \u001b[0m-68.92   \u001b[0m | \u001b[0m0.2997   \u001b[0m | \u001b[0m0.06946  \u001b[0m | \u001b[0m6.4      \u001b[0m |\n",
      "| \u001b[0m102      \u001b[0m | \u001b[0m-64.8    \u001b[0m | \u001b[0m0.06002  \u001b[0m | \u001b[0m0.09784  \u001b[0m | \u001b[0m6.313    \u001b[0m |\n",
      "| \u001b[0m103      \u001b[0m | \u001b[0m-81.77   \u001b[0m | \u001b[0m0.01019  \u001b[0m | \u001b[0m0.02077  \u001b[0m | \u001b[0m6.206    \u001b[0m |\n",
      "| \u001b[0m104      \u001b[0m | \u001b[0m-64.69   \u001b[0m | \u001b[0m0.1042   \u001b[0m | \u001b[0m0.0986   \u001b[0m | \u001b[0m6.441    \u001b[0m |\n",
      "| \u001b[0m105      \u001b[0m | \u001b[0m-65.48   \u001b[0m | \u001b[0m0.1651   \u001b[0m | \u001b[0m0.09103  \u001b[0m | \u001b[0m6.339    \u001b[0m |\n",
      "| \u001b[0m106      \u001b[0m | \u001b[0m-85.16   \u001b[0m | \u001b[0m0.09554  \u001b[0m | \u001b[0m0.01077  \u001b[0m | \u001b[0m4.09     \u001b[0m |\n",
      "| \u001b[0m107      \u001b[0m | \u001b[0m-83.42   \u001b[0m | \u001b[0m0.01584  \u001b[0m | \u001b[0m0.01545  \u001b[0m | \u001b[0m6.434    \u001b[0m |\n",
      "| \u001b[0m108      \u001b[0m | \u001b[0m-65.17   \u001b[0m | \u001b[0m0.2255   \u001b[0m | \u001b[0m0.09456  \u001b[0m | \u001b[0m6.532    \u001b[0m |\n",
      "| \u001b[0m109      \u001b[0m | \u001b[0m-77.46   \u001b[0m | \u001b[0m0.01092  \u001b[0m | \u001b[0m0.03213  \u001b[0m | \u001b[0m4.845    \u001b[0m |\n",
      "| \u001b[0m110      \u001b[0m | \u001b[0m-64.48   \u001b[0m | \u001b[0m0.3      \u001b[0m | \u001b[0m0.1      \u001b[0m | \u001b[0m6.652    \u001b[0m |\n",
      "| \u001b[0m111      \u001b[0m | \u001b[0m-84.61   \u001b[0m | \u001b[0m0.2875   \u001b[0m | \u001b[0m0.01216  \u001b[0m | \u001b[0m6.564    \u001b[0m |\n",
      "| \u001b[0m112      \u001b[0m | \u001b[0m-64.78   \u001b[0m | \u001b[0m0.2209   \u001b[0m | \u001b[0m0.09665  \u001b[0m | \u001b[0m6.737    \u001b[0m |\n",
      "| \u001b[0m113      \u001b[0m | \u001b[0m-64.77   \u001b[0m | \u001b[0m0.1422   \u001b[0m | \u001b[0m0.09803  \u001b[0m | \u001b[0m6.638    \u001b[0m |\n",
      "| \u001b[0m114      \u001b[0m | \u001b[0m-84.13   \u001b[0m | \u001b[0m0.297    \u001b[0m | \u001b[0m0.01359  \u001b[0m | \u001b[0m9.126    \u001b[0m |\n",
      "| \u001b[0m115      \u001b[0m | \u001b[0m-78.92   \u001b[0m | \u001b[0m0.1971   \u001b[0m | \u001b[0m0.02841  \u001b[0m | \u001b[0m7.61     \u001b[0m |\n",
      "| \u001b[0m116      \u001b[0m | \u001b[0m-64.85   \u001b[0m | \u001b[0m0.1754   \u001b[0m | \u001b[0m0.09618  \u001b[0m | \u001b[0m9.027    \u001b[0m |\n",
      "| \u001b[0m117      \u001b[0m | \u001b[0m-79.09   \u001b[0m | \u001b[0m0.06108  \u001b[0m | \u001b[0m0.02761  \u001b[0m | \u001b[0m3.968    \u001b[0m |\n",
      "| \u001b[0m118      \u001b[0m | \u001b[0m-83.67   \u001b[0m | \u001b[0m0.2722   \u001b[0m | \u001b[0m0.01483  \u001b[0m | \u001b[0m3.937    \u001b[0m |\n",
      "| \u001b[0m119      \u001b[0m | \u001b[0m-67.25   \u001b[0m | \u001b[0m0.2959   \u001b[0m | \u001b[0m0.07977  \u001b[0m | \u001b[0m8.93     \u001b[0m |\n",
      "| \u001b[0m120      \u001b[0m | \u001b[0m-64.48   \u001b[0m | \u001b[0m0.3      \u001b[0m | \u001b[0m0.1      \u001b[0m | \u001b[0m7.974    \u001b[0m |\n",
      "| \u001b[0m121      \u001b[0m | \u001b[0m-65.47   \u001b[0m | \u001b[0m0.2937   \u001b[0m | \u001b[0m0.0931   \u001b[0m | \u001b[0m6.22     \u001b[0m |\n",
      "| \u001b[0m122      \u001b[0m | \u001b[0m-64.37   \u001b[0m | \u001b[0m0.3      \u001b[0m | \u001b[0m0.1      \u001b[0m | \u001b[0m5.363    \u001b[0m |\n",
      "| \u001b[0m123      \u001b[0m | \u001b[0m-75.8    \u001b[0m | \u001b[0m0.1744   \u001b[0m | \u001b[0m0.03707  \u001b[0m | \u001b[0m6.093    \u001b[0m |\n",
      "| \u001b[0m124      \u001b[0m | \u001b[0m-64.37   \u001b[0m | \u001b[0m0.1768   \u001b[0m | \u001b[0m0.1      \u001b[0m | \u001b[0m5.307    \u001b[0m |\n",
      "| \u001b[0m125      \u001b[0m | \u001b[0m-84.24   \u001b[0m | \u001b[0m0.2658   \u001b[0m | \u001b[0m0.01332  \u001b[0m | \u001b[0m5.289    \u001b[0m |\n",
      "| \u001b[0m126      \u001b[0m | \u001b[0m-65.35   \u001b[0m | \u001b[0m0.2105   \u001b[0m | \u001b[0m0.09322  \u001b[0m | \u001b[0m5.423    \u001b[0m |\n",
      "| \u001b[0m127      \u001b[0m | \u001b[0m-65.69   \u001b[0m | \u001b[0m0.07214  \u001b[0m | \u001b[0m0.08924  \u001b[0m | \u001b[0m5.337    \u001b[0m |\n",
      "| \u001b[0m128      \u001b[0m | \u001b[0m-64.37   \u001b[0m | \u001b[0m0.05393  \u001b[0m | \u001b[0m0.1      \u001b[0m | \u001b[0m5.201    \u001b[0m |\n",
      "| \u001b[0m129      \u001b[0m | \u001b[0m-64.8    \u001b[0m | \u001b[0m0.2868   \u001b[0m | \u001b[0m0.09708  \u001b[0m | \u001b[0m5.52     \u001b[0m |\n",
      "| \u001b[0m130      \u001b[0m | \u001b[0m-71.0    \u001b[0m | \u001b[0m0.02174  \u001b[0m | \u001b[0m0.05795  \u001b[0m | \u001b[0m6.073    \u001b[0m |\n",
      "| \u001b[0m131      \u001b[0m | \u001b[0m-85.4    \u001b[0m | \u001b[0m0.01     \u001b[0m | \u001b[0m0.01     \u001b[0m | \u001b[0m5.245    \u001b[0m |\n",
      "| \u001b[0m132      \u001b[0m | \u001b[0m-65.14   \u001b[0m | \u001b[0m0.09256  \u001b[0m | \u001b[0m0.09521  \u001b[0m | \u001b[0m5.098    \u001b[0m |\n",
      "| \u001b[0m133      \u001b[0m | \u001b[0m-65.45   \u001b[0m | \u001b[0m0.2915   \u001b[0m | \u001b[0m0.09124  \u001b[0m | \u001b[0m7.093    \u001b[0m |\n",
      "| \u001b[0m134      \u001b[0m | \u001b[0m-64.48   \u001b[0m | \u001b[0m0.1349   \u001b[0m | \u001b[0m0.1      \u001b[0m | \u001b[0m6.535    \u001b[0m |\n",
      "| \u001b[0m135      \u001b[0m | \u001b[0m-64.48   \u001b[0m | \u001b[0m0.3      \u001b[0m | \u001b[0m0.1      \u001b[0m | \u001b[0m7.85     \u001b[0m |\n",
      "| \u001b[0m136      \u001b[0m | \u001b[0m-85.4    \u001b[0m | \u001b[0m0.3      \u001b[0m | \u001b[0m0.01     \u001b[0m | \u001b[0m7.911    \u001b[0m |\n",
      "| \u001b[0m137      \u001b[0m | \u001b[0m-64.58   \u001b[0m | \u001b[0m0.121    \u001b[0m | \u001b[0m0.09784  \u001b[0m | \u001b[0m4.33     \u001b[0m |\n",
      "| \u001b[0m138      \u001b[0m | \u001b[0m-64.17   \u001b[0m | \u001b[0m0.2998   \u001b[0m | \u001b[0m0.09983  \u001b[0m | \u001b[0m3.185    \u001b[0m |\n",
      "| \u001b[0m139      \u001b[0m | \u001b[0m-64.14   \u001b[0m | \u001b[0m0.3      \u001b[0m | \u001b[0m0.1      \u001b[0m | \u001b[0m3.065    \u001b[0m |\n",
      "| \u001b[0m140      \u001b[0m | \u001b[0m-84.1    \u001b[0m | \u001b[0m0.2459   \u001b[0m | \u001b[0m0.01354  \u001b[0m | \u001b[0m3.126    \u001b[0m |\n",
      "| \u001b[0m141      \u001b[0m | \u001b[0m-65.9    \u001b[0m | \u001b[0m0.1288   \u001b[0m | \u001b[0m0.08627  \u001b[0m | \u001b[0m6.74     \u001b[0m |\n",
      "| \u001b[0m142      \u001b[0m | \u001b[0m-64.9    \u001b[0m | \u001b[0m0.2997   \u001b[0m | \u001b[0m0.09529  \u001b[0m | \u001b[0m3.328    \u001b[0m |\n",
      "| \u001b[0m143      \u001b[0m | \u001b[0m-83.58   \u001b[0m | \u001b[0m0.2982   \u001b[0m | \u001b[0m0.01504  \u001b[0m | \u001b[0m5.633    \u001b[0m |\n",
      "| \u001b[0m144      \u001b[0m | \u001b[0m-64.48   \u001b[0m | \u001b[0m0.3      \u001b[0m | \u001b[0m0.1      \u001b[0m | \u001b[0m9.379    \u001b[0m |\n",
      "| \u001b[0m145      \u001b[0m | \u001b[0m-68.97   \u001b[0m | \u001b[0m0.2961   \u001b[0m | \u001b[0m0.07294  \u001b[0m | \u001b[0m9.5      \u001b[0m |\n",
      "| \u001b[0m146      \u001b[0m | \u001b[0m-64.25   \u001b[0m | \u001b[0m0.3      \u001b[0m | \u001b[0m0.1      \u001b[0m | \u001b[0m4.79     \u001b[0m |\n",
      "| \u001b[0m147      \u001b[0m | \u001b[0m-85.4    \u001b[0m | \u001b[0m0.3      \u001b[0m | \u001b[0m0.01     \u001b[0m | \u001b[0m4.863    \u001b[0m |\n",
      "| \u001b[0m148      \u001b[0m | \u001b[0m-64.25   \u001b[0m | \u001b[0m0.3      \u001b[0m | \u001b[0m0.1      \u001b[0m | \u001b[0m4.685    \u001b[0m |\n",
      "| \u001b[0m149      \u001b[0m | \u001b[0m-64.25   \u001b[0m | \u001b[0m0.2021   \u001b[0m | \u001b[0m0.1      \u001b[0m | \u001b[0m4.732    \u001b[0m |\n",
      "| \u001b[0m150      \u001b[0m | \u001b[0m-65.13   \u001b[0m | \u001b[0m0.1471   \u001b[0m | \u001b[0m0.09524  \u001b[0m | \u001b[0m5.205    \u001b[0m |\n",
      "| \u001b[0m151      \u001b[0m | \u001b[0m-66.14   \u001b[0m | \u001b[0m0.177    \u001b[0m | \u001b[0m0.08487  \u001b[0m | \u001b[0m8.944    \u001b[0m |\n",
      "| \u001b[0m152      \u001b[0m | \u001b[0m-64.48   \u001b[0m | \u001b[0m0.01     \u001b[0m | \u001b[0m0.1      \u001b[0m | \u001b[0m7.406    \u001b[0m |\n",
      "| \u001b[0m153      \u001b[0m | \u001b[0m-64.48   \u001b[0m | \u001b[0m0.1274   \u001b[0m | \u001b[0m0.1      \u001b[0m | \u001b[0m7.377    \u001b[0m |\n",
      "| \u001b[0m154      \u001b[0m | \u001b[0m-66.31   \u001b[0m | \u001b[0m0.1429   \u001b[0m | \u001b[0m0.08389  \u001b[0m | \u001b[0m5.091    \u001b[0m |\n",
      "| \u001b[0m155      \u001b[0m | \u001b[0m-83.0    \u001b[0m | \u001b[0m0.07082  \u001b[0m | \u001b[0m0.01686  \u001b[0m | \u001b[0m7.436    \u001b[0m |\n",
      "| \u001b[0m156      \u001b[0m | \u001b[0m-65.15   \u001b[0m | \u001b[0m0.05836  \u001b[0m | \u001b[0m0.09471  \u001b[0m | \u001b[0m7.297    \u001b[0m |\n",
      "=============================================================\n"
     ]
    }
   ],
   "source": [
    "optimizer.maximize(\n",
    "    init_points=3, \n",
    "    n_iter=100, \n",
    ")"
   ]
  },
  {
   "cell_type": "code",
   "execution_count": 228,
   "metadata": {},
   "outputs": [
    {
     "data": {
      "text/plain": [
       "{'eta': 0.01, 'learning_rate': 0.1, 'max_depth': 3.2832530005659883}"
      ]
     },
     "execution_count": 228,
     "metadata": {},
     "output_type": "execute_result"
    }
   ],
   "source": [
    "best_hyperparameters = optimizer.max['params']\n",
    "best_hyperparameters"
   ]
  },
  {
   "cell_type": "code",
   "execution_count": 229,
   "metadata": {},
   "outputs": [
    {
     "name": "stdout",
     "output_type": "stream",
     "text": [
      "MAE: 64.14447275797527\n"
     ]
    },
    {
     "data": {
      "text/plain": [
       "<matplotlib.legend.Legend at 0x17a6b8790>"
      ]
     },
     "execution_count": 229,
     "metadata": {},
     "output_type": "execute_result"
    },
    {
     "data": {
      "image/png": "[encoded data removed]",
      "text/plain": [
       "<Figure size 640x480 with 1 Axes>"
      ]
     },
     "metadata": {},
     "output_type": "display_data"
    }
   ],
   "source": [
    "# XGBoost Parameter\n",
    "params = {\n",
    "    'objective': 'reg:squarederror',\n",
    "    'eta': 0.01,\n",
    "    'max_depth': 3,\n",
    "    'learning_rate': 0.1,\n",
    "}\n",
    "\n",
    "# train \n",
    "model = xgb.train(params, dTrain)\n",
    "\n",
    "# predict\n",
    "yPred = model.predict(dTest)\n",
    "\n",
    "# evaluate\n",
    "mae = mean_absolute_error(testY, yPred)\n",
    "\n",
    "print(f\"MAE: {np.mean(mae)}\")\n",
    "\n",
    "eval = testY.to_frame()\n",
    "eval['pred'] = yPred\n",
    "eval.head(12)\n",
    "\n",
    "# plot \n",
    "plt.plot(trainY, color='blue', label = 'Train')\n",
    "plt.plot(eval['qty_total'], color='orange', label = 'Test')\n",
    "plt.plot(eval['pred'], color='green', label = 'XGBoost Predictions')\n",
    "plt.legend()"
   ]
  },
  {
   "attachments": {},
   "cell_type": "markdown",
   "metadata": {},
   "source": [
    "### VARMA (still error)"
   ]
  },
  {
   "attachments": {},
   "cell_type": "markdown",
   "metadata": {},
   "source": [
    "VARMA is suitable for multiple variables that may have dependencies on each other. VARMA extends the concepts of ARIMA to multiple variable"
   ]
  },
  {
   "cell_type": "code",
   "execution_count": 236,
   "metadata": {},
   "outputs": [
    {
     "data": {
      "text/html": [
       "<div>\n",
       "<style scoped>\n",
       "    .dataframe tbody tr th:only-of-type {\n",
       "        vertical-align: middle;\n",
       "    }\n",
       "\n",
       "    .dataframe tbody tr th {\n",
       "        vertical-align: top;\n",
       "    }\n",
       "\n",
       "    .dataframe thead th {\n",
       "        text-align: right;\n",
       "    }\n",
       "</style>\n",
       "<table border=\"1\" class=\"dataframe\">\n",
       "  <thead>\n",
       "    <tr style=\"text-align: right;\">\n",
       "      <th></th>\n",
       "      <th>qty_total</th>\n",
       "      <th>FS_total</th>\n",
       "      <th>B1G1_total</th>\n",
       "      <th>week_1</th>\n",
       "      <th>week_2</th>\n",
       "      <th>week_3</th>\n",
       "      <th>week_4</th>\n",
       "      <th>week_5</th>\n",
       "    </tr>\n",
       "    <tr>\n",
       "      <th>salesdate</th>\n",
       "      <th></th>\n",
       "      <th></th>\n",
       "      <th></th>\n",
       "      <th></th>\n",
       "      <th></th>\n",
       "      <th></th>\n",
       "      <th></th>\n",
       "      <th></th>\n",
       "    </tr>\n",
       "  </thead>\n",
       "  <tbody>\n",
       "    <tr>\n",
       "      <th>2022-05-22</th>\n",
       "      <td>80</td>\n",
       "      <td>0</td>\n",
       "      <td>0</td>\n",
       "      <td>0</td>\n",
       "      <td>0</td>\n",
       "      <td>0</td>\n",
       "      <td>1</td>\n",
       "      <td>0</td>\n",
       "    </tr>\n",
       "    <tr>\n",
       "      <th>2022-05-29</th>\n",
       "      <td>151</td>\n",
       "      <td>0</td>\n",
       "      <td>0</td>\n",
       "      <td>0</td>\n",
       "      <td>0</td>\n",
       "      <td>0</td>\n",
       "      <td>0</td>\n",
       "      <td>1</td>\n",
       "    </tr>\n",
       "    <tr>\n",
       "      <th>2022-06-05</th>\n",
       "      <td>77</td>\n",
       "      <td>0</td>\n",
       "      <td>0</td>\n",
       "      <td>1</td>\n",
       "      <td>0</td>\n",
       "      <td>0</td>\n",
       "      <td>0</td>\n",
       "      <td>0</td>\n",
       "    </tr>\n",
       "    <tr>\n",
       "      <th>2022-06-12</th>\n",
       "      <td>90</td>\n",
       "      <td>2</td>\n",
       "      <td>0</td>\n",
       "      <td>0</td>\n",
       "      <td>1</td>\n",
       "      <td>0</td>\n",
       "      <td>0</td>\n",
       "      <td>0</td>\n",
       "    </tr>\n",
       "    <tr>\n",
       "      <th>2022-06-19</th>\n",
       "      <td>29</td>\n",
       "      <td>4</td>\n",
       "      <td>0</td>\n",
       "      <td>0</td>\n",
       "      <td>0</td>\n",
       "      <td>1</td>\n",
       "      <td>0</td>\n",
       "      <td>0</td>\n",
       "    </tr>\n",
       "  </tbody>\n",
       "</table>\n",
       "</div>"
      ],
      "text/plain": [
       "            qty_total  FS_total  B1G1_total  week_1  week_2  week_3  week_4  \\\n",
       "salesdate                                                                     \n",
       "2022-05-22         80         0           0       0       0       0       1   \n",
       "2022-05-29        151         0           0       0       0       0       0   \n",
       "2022-06-05         77         0           0       1       0       0       0   \n",
       "2022-06-12         90         2           0       0       1       0       0   \n",
       "2022-06-19         29         4           0       0       0       1       0   \n",
       "\n",
       "            week_5  \n",
       "salesdate           \n",
       "2022-05-22       0  \n",
       "2022-05-29       1  \n",
       "2022-06-05       0  \n",
       "2022-06-12       0  \n",
       "2022-06-19       0  "
      ]
     },
     "execution_count": 236,
     "metadata": {},
     "output_type": "execute_result"
    }
   ],
   "source": [
    "trainDf.head()"
   ]
  },
  {
   "cell_type": "code",
   "execution_count": 239,
   "metadata": {},
   "outputs": [],
   "source": [
    "# # VARMA params\n",
    "# params = {\n",
    "#     'p': 2,\n",
    "#     'q': 1\n",
    "# }\n",
    "\n",
    "# # train\n",
    "# model = sm.tsa.VARMAX(trainX_scaled, order=(params['p'], params['q']))\n",
    "# results = model.fit()\n",
    "\n",
    "# # predict\n",
    "# forecast = results.forecast(steps=len(testY))"
   ]
  },
  {
   "attachments": {},
   "cell_type": "markdown",
   "metadata": {},
   "source": [
    "### VAR"
   ]
  },
  {
   "cell_type": "code",
   "execution_count": 240,
   "metadata": {},
   "outputs": [],
   "source": [
    "from statsmodels.tsa.vector_ar.var_model import VAR"
   ]
  },
  {
   "cell_type": "code",
   "execution_count": 254,
   "metadata": {},
   "outputs": [
    {
     "data": {
      "text/html": [
       "<div>\n",
       "<style scoped>\n",
       "    .dataframe tbody tr th:only-of-type {\n",
       "        vertical-align: middle;\n",
       "    }\n",
       "\n",
       "    .dataframe tbody tr th {\n",
       "        vertical-align: top;\n",
       "    }\n",
       "\n",
       "    .dataframe thead th {\n",
       "        text-align: right;\n",
       "    }\n",
       "</style>\n",
       "<table border=\"1\" class=\"dataframe\">\n",
       "  <thead>\n",
       "    <tr style=\"text-align: right;\">\n",
       "      <th></th>\n",
       "      <th>y</th>\n",
       "      <th>FS_total</th>\n",
       "      <th>B1G1_total</th>\n",
       "      <th>week_1</th>\n",
       "      <th>week_2</th>\n",
       "      <th>week_3</th>\n",
       "      <th>week_4</th>\n",
       "      <th>week_5</th>\n",
       "    </tr>\n",
       "    <tr>\n",
       "      <th>salesdate</th>\n",
       "      <th></th>\n",
       "      <th></th>\n",
       "      <th></th>\n",
       "      <th></th>\n",
       "      <th></th>\n",
       "      <th></th>\n",
       "      <th></th>\n",
       "      <th></th>\n",
       "    </tr>\n",
       "  </thead>\n",
       "  <tbody>\n",
       "    <tr>\n",
       "      <th>2022-05-22</th>\n",
       "      <td>80</td>\n",
       "      <td>0</td>\n",
       "      <td>0</td>\n",
       "      <td>0</td>\n",
       "      <td>0</td>\n",
       "      <td>0</td>\n",
       "      <td>1</td>\n",
       "      <td>0</td>\n",
       "    </tr>\n",
       "    <tr>\n",
       "      <th>2022-05-29</th>\n",
       "      <td>151</td>\n",
       "      <td>0</td>\n",
       "      <td>0</td>\n",
       "      <td>0</td>\n",
       "      <td>0</td>\n",
       "      <td>0</td>\n",
       "      <td>0</td>\n",
       "      <td>1</td>\n",
       "    </tr>\n",
       "    <tr>\n",
       "      <th>2022-06-05</th>\n",
       "      <td>77</td>\n",
       "      <td>0</td>\n",
       "      <td>0</td>\n",
       "      <td>1</td>\n",
       "      <td>0</td>\n",
       "      <td>0</td>\n",
       "      <td>0</td>\n",
       "      <td>0</td>\n",
       "    </tr>\n",
       "    <tr>\n",
       "      <th>2022-06-12</th>\n",
       "      <td>90</td>\n",
       "      <td>2</td>\n",
       "      <td>0</td>\n",
       "      <td>0</td>\n",
       "      <td>1</td>\n",
       "      <td>0</td>\n",
       "      <td>0</td>\n",
       "      <td>0</td>\n",
       "    </tr>\n",
       "    <tr>\n",
       "      <th>2022-06-19</th>\n",
       "      <td>29</td>\n",
       "      <td>4</td>\n",
       "      <td>0</td>\n",
       "      <td>0</td>\n",
       "      <td>0</td>\n",
       "      <td>1</td>\n",
       "      <td>0</td>\n",
       "      <td>0</td>\n",
       "    </tr>\n",
       "  </tbody>\n",
       "</table>\n",
       "</div>"
      ],
      "text/plain": [
       "              y  FS_total  B1G1_total  week_1  week_2  week_3  week_4  week_5\n",
       "salesdate                                                                    \n",
       "2022-05-22   80         0           0       0       0       0       1       0\n",
       "2022-05-29  151         0           0       0       0       0       0       1\n",
       "2022-06-05   77         0           0       1       0       0       0       0\n",
       "2022-06-12   90         2           0       0       1       0       0       0\n",
       "2022-06-19   29         4           0       0       0       1       0       0"
      ]
     },
     "execution_count": 254,
     "metadata": {},
     "output_type": "execute_result"
    }
   ],
   "source": [
    "dfTrain_new = trainDf.rename({'qty_total':'y'}, axis=1)\n",
    "dfTrain_new.head()"
   ]
  },
  {
   "cell_type": "code",
   "execution_count": 270,
   "metadata": {},
   "outputs": [
    {
     "name": "stdout",
     "output_type": "stream",
     "text": [
      "Lag order selected: 1\n",
      "MAE: 53.27782044222575\n"
     ]
    }
   ],
   "source": [
    "# Params \n",
    "\n",
    "\n",
    "# VAR model\n",
    "model = VAR(dfTrain_new)\n",
    "model_fit = model.fit()\n",
    "\n",
    "# lag order\n",
    "lag_order = model_fit.k_ar\n",
    "print(\"Lag order selected:\", lag_order)\n",
    "\n",
    "# predict\n",
    "n_steps = len(testY)\n",
    "forecast = model_fit.forecast(model_fit.endog, steps=n_steps)\n",
    "pred = forecast[:, 0]\n",
    "\n",
    "# evaluate\n",
    "mae = mean_absolute_error(testY, pred)\n",
    "\n",
    "print(f\"MAE: {np.mean(mae)}\")"
   ]
  },
  {
   "cell_type": "code",
   "execution_count": 272,
   "metadata": {},
   "outputs": [
    {
     "data": {
      "text/html": [
       "<div>\n",
       "<style scoped>\n",
       "    .dataframe tbody tr th:only-of-type {\n",
       "        vertical-align: middle;\n",
       "    }\n",
       "\n",
       "    .dataframe tbody tr th {\n",
       "        vertical-align: top;\n",
       "    }\n",
       "\n",
       "    .dataframe thead th {\n",
       "        text-align: right;\n",
       "    }\n",
       "</style>\n",
       "<table border=\"1\" class=\"dataframe\">\n",
       "  <thead>\n",
       "    <tr style=\"text-align: right;\">\n",
       "      <th></th>\n",
       "      <th>qty_total</th>\n",
       "      <th>pred</th>\n",
       "    </tr>\n",
       "    <tr>\n",
       "      <th>salesdate</th>\n",
       "      <th></th>\n",
       "      <th></th>\n",
       "    </tr>\n",
       "  </thead>\n",
       "  <tbody>\n",
       "    <tr>\n",
       "      <th>2023-03-05</th>\n",
       "      <td>148</td>\n",
       "      <td>8.108588</td>\n",
       "    </tr>\n",
       "    <tr>\n",
       "      <th>2023-03-12</th>\n",
       "      <td>163</td>\n",
       "      <td>129.699137</td>\n",
       "    </tr>\n",
       "    <tr>\n",
       "      <th>2023-03-19</th>\n",
       "      <td>134</td>\n",
       "      <td>79.419376</td>\n",
       "    </tr>\n",
       "    <tr>\n",
       "      <th>2023-03-26</th>\n",
       "      <td>141</td>\n",
       "      <td>83.086112</td>\n",
       "    </tr>\n",
       "    <tr>\n",
       "      <th>2023-04-02</th>\n",
       "      <td>56</td>\n",
       "      <td>75.866362</td>\n",
       "    </tr>\n",
       "    <tr>\n",
       "      <th>2023-04-09</th>\n",
       "      <td>147</td>\n",
       "      <td>100.532972</td>\n",
       "    </tr>\n",
       "    <tr>\n",
       "      <th>2023-04-16</th>\n",
       "      <td>101</td>\n",
       "      <td>88.688588</td>\n",
       "    </tr>\n",
       "    <tr>\n",
       "      <th>2023-04-23</th>\n",
       "      <td>68</td>\n",
       "      <td>87.568224</td>\n",
       "    </tr>\n",
       "    <tr>\n",
       "      <th>2023-04-30</th>\n",
       "      <td>0</td>\n",
       "      <td>75.998909</td>\n",
       "    </tr>\n",
       "    <tr>\n",
       "      <th>2023-05-07</th>\n",
       "      <td>106</td>\n",
       "      <td>91.880337</td>\n",
       "    </tr>\n",
       "    <tr>\n",
       "      <th>2023-05-14</th>\n",
       "      <td>0</td>\n",
       "      <td>92.566190</td>\n",
       "    </tr>\n",
       "    <tr>\n",
       "      <th>2023-05-21</th>\n",
       "      <td>16</td>\n",
       "      <td>88.749270</td>\n",
       "    </tr>\n",
       "  </tbody>\n",
       "</table>\n",
       "</div>"
      ],
      "text/plain": [
       "            qty_total        pred\n",
       "salesdate                        \n",
       "2023-03-05        148    8.108588\n",
       "2023-03-12        163  129.699137\n",
       "2023-03-19        134   79.419376\n",
       "2023-03-26        141   83.086112\n",
       "2023-04-02         56   75.866362\n",
       "2023-04-09        147  100.532972\n",
       "2023-04-16        101   88.688588\n",
       "2023-04-23         68   87.568224\n",
       "2023-04-30          0   75.998909\n",
       "2023-05-07        106   91.880337\n",
       "2023-05-14          0   92.566190\n",
       "2023-05-21         16   88.749270"
      ]
     },
     "execution_count": 272,
     "metadata": {},
     "output_type": "execute_result"
    }
   ],
   "source": [
    "eval = testY.to_frame()\n",
    "eval['pred'] = pred\n",
    "eval.head(12)"
   ]
  },
  {
   "cell_type": "code",
   "execution_count": 274,
   "metadata": {},
   "outputs": [
    {
     "data": {
      "text/plain": [
       "<matplotlib.legend.Legend at 0x17d75db70>"
      ]
     },
     "execution_count": 274,
     "metadata": {},
     "output_type": "execute_result"
    },
    {
     "data": {
      "image/png": "[encoded data removed]",
      "text/plain": [
       "<Figure size 640x480 with 1 Axes>"
      ]
     },
     "metadata": {},
     "output_type": "display_data"
    }
   ],
   "source": [
    "# plot \n",
    "plt.plot(trainY, color='blue', label = 'Train')\n",
    "plt.plot(eval['qty_total'], color='orange', label = 'Test')\n",
    "plt.plot(eval['pred'], color='green', label = 'VAR Predictions')\n",
    "plt.legend()"
   ]
  },
  {
   "cell_type": "code",
   "execution_count": null,
   "metadata": {},
   "outputs": [],
   "source": []
  }
 ],
 "metadata": {
  "kernelspec": {
   "display_name": "base",
   "language": "python",
   "name": "python3"
  },
  "language_info": {
   "codemirror_mode": {
    "name": "ipython",
    "version": 3
   },
   "file_extension": ".py",
   "mimetype": "text/x-python",
   "name": "python",
   "nbconvert_exporter": "python",
   "pygments_lexer": "ipython3",
   "version": "3.10.9"
  },
  "orig_nbformat": 4
 },
 "nbformat": 4,
 "nbformat_minor": 2
}
